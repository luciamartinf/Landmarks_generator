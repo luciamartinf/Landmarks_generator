{
 "cells": [
  {
   "cell_type": "code",
   "execution_count": 8,
   "metadata": {},
   "outputs": [
    {
     "name": "stdout",
     "output_type": "stream",
     "text": [
      "[1, 3, 4, 2, 5]\n",
      "[1, 3, 2, 4, 5]\n",
      "[2, 3, 4, 5, 1]\n",
      "[1, 2, 5, 4, 3]\n"
     ]
    }
   ],
   "source": [
    "# Trying random\n",
    "\n",
    "import random\n",
    "\n",
    "random.seed(53)\n",
    "mylist = [1,2,3,4,5]\n",
    "\n",
    "random.shuffle(mylist)\n",
    "print(mylist)\n",
    "random.shuffle(mylist)\n",
    "print(mylist)\n",
    "random.shuffle(mylist)\n",
    "print(mylist)\n",
    "random.shuffle(mylist)\n",
    "print(mylist)\n"
   ]
  },
  {
   "cell_type": "markdown",
   "metadata": {},
   "source": [
    "Trying random\n"
   ]
  }
 ],
 "metadata": {
  "kernelspec": {
   "display_name": "Python 3",
   "language": "python",
   "name": "python3"
  },
  "language_info": {
   "codemirror_mode": {
    "name": "ipython",
    "version": 3
   },
   "file_extension": ".py",
   "mimetype": "text/x-python",
   "name": "python",
   "nbconvert_exporter": "python",
   "pygments_lexer": "ipython3",
   "version": "3.9.6"
  }
 },
 "nbformat": 4,
 "nbformat_minor": 2
}
