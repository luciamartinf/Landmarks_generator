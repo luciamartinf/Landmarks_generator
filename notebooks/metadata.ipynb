{
 "cells": [
  {
   "cell_type": "markdown",
   "metadata": {},
   "source": [
    "# Match Metadata IDs with landmarks"
   ]
  },
  {
   "cell_type": "markdown",
   "metadata": {},
   "source": [
    "We want to check that the ids in our metadata check with the ones in the landmarks file \n",
    "\n",
    "\n",
    "el ID de landmarks tiene que ser igual que el ID de metadata. \n",
    "\n",
    "\n",
    "Probablemente este script solo sirva para Giannis"
   ]
  },
  {
   "cell_type": "code",
   "execution_count": 61,
   "metadata": {},
   "outputs": [],
   "source": [
    "import pandas as pd"
   ]
  },
  {
   "cell_type": "code",
   "execution_count": 81,
   "metadata": {},
   "outputs": [],
   "source": [
    "metadata_file = \"/Users/luciamf/Desktop/Landmarks_generator/example/metadata_carabus.csv\"\n",
    "landmarks_file = \"/Users/luciamf/Desktop/Landmarks_generator/example/carabus_landmarks/carabus_landmarks.tps\"\n",
    "landmarks_file_2 = \"/Users/luciamf/Documents/beetles_project/beetle_classification/Carabus_pronotumLANDMARKS.TXT\""
   ]
  },
  {
   "cell_type": "code",
   "execution_count": 82,
   "metadata": {},
   "outputs": [
    {
     "data": {
      "text/plain": [
       "319"
      ]
     },
     "execution_count": 82,
     "metadata": {},
     "output_type": "execute_result"
    }
   ],
   "source": [
    "with open(landmarks_file, 'r') as f:\n",
    "    lines = f.readlines()\n",
    "    ids = [item.strip().split(\"=\")[1] for item in lines if \"ID\" in item]\n",
    "len(ids)"
   ]
  },
  {
   "cell_type": "code",
   "execution_count": 83,
   "metadata": {},
   "outputs": [
    {
     "data": {
      "text/plain": [
       "319"
      ]
     },
     "execution_count": 83,
     "metadata": {},
     "output_type": "execute_result"
    }
   ],
   "source": [
    "with open(landmarks_file_2, 'r') as f:\n",
    "    lines = f.readlines()\n",
    "    ids_2 = [item.strip().split(\"=\")[1] for item in lines if \"ID\" in item]\n",
    "len(ids)"
   ]
  },
  {
   "cell_type": "code",
   "execution_count": 75,
   "metadata": {},
   "outputs": [
    {
     "data": {
      "text/html": [
       "<div>\n",
       "<style scoped>\n",
       "    .dataframe tbody tr th:only-of-type {\n",
       "        vertical-align: middle;\n",
       "    }\n",
       "\n",
       "    .dataframe tbody tr th {\n",
       "        vertical-align: top;\n",
       "    }\n",
       "\n",
       "    .dataframe thead th {\n",
       "        text-align: right;\n",
       "    }\n",
       "</style>\n",
       "<table border=\"1\" class=\"dataframe\">\n",
       "  <thead>\n",
       "    <tr style=\"text-align: right;\">\n",
       "      <th></th>\n",
       "      <th>ind_num</th>\n",
       "      <th>ID</th>\n",
       "      <th>FC</th>\n",
       "      <th>Species</th>\n",
       "      <th>Location</th>\n",
       "      <th>Alt.</th>\n",
       "      <th>Alt. Zone</th>\n",
       "      <th>Mt.</th>\n",
       "      <th>Crete</th>\n",
       "      <th>Sex</th>\n",
       "    </tr>\n",
       "  </thead>\n",
       "  <tbody>\n",
       "    <tr>\n",
       "      <th>0</th>\n",
       "      <td>10</td>\n",
       "      <td>FC226IND10</td>\n",
       "      <td>226</td>\n",
       "      <td>Carabus banoni</td>\n",
       "      <td>Kournas Lake</td>\n",
       "      <td>30</td>\n",
       "      <td>400</td>\n",
       "      <td>NaN</td>\n",
       "      <td>West</td>\n",
       "      <td>F</td>\n",
       "    </tr>\n",
       "    <tr>\n",
       "      <th>1</th>\n",
       "      <td>11</td>\n",
       "      <td>FC226IND11</td>\n",
       "      <td>226</td>\n",
       "      <td>Carabus banoni</td>\n",
       "      <td>Kournas Lake</td>\n",
       "      <td>30</td>\n",
       "      <td>400</td>\n",
       "      <td>NaN</td>\n",
       "      <td>West</td>\n",
       "      <td>F</td>\n",
       "    </tr>\n",
       "    <tr>\n",
       "      <th>2</th>\n",
       "      <td>12</td>\n",
       "      <td>FC226IND12</td>\n",
       "      <td>226</td>\n",
       "      <td>Carabus banoni</td>\n",
       "      <td>Kournas Lake</td>\n",
       "      <td>30</td>\n",
       "      <td>400</td>\n",
       "      <td>NaN</td>\n",
       "      <td>West</td>\n",
       "      <td>F</td>\n",
       "    </tr>\n",
       "    <tr>\n",
       "      <th>3</th>\n",
       "      <td>13</td>\n",
       "      <td>FC226IND13</td>\n",
       "      <td>226</td>\n",
       "      <td>Carabus banoni</td>\n",
       "      <td>Kournas Lake</td>\n",
       "      <td>30</td>\n",
       "      <td>400</td>\n",
       "      <td>NaN</td>\n",
       "      <td>West</td>\n",
       "      <td>F</td>\n",
       "    </tr>\n",
       "    <tr>\n",
       "      <th>4</th>\n",
       "      <td>14</td>\n",
       "      <td>FC226IND14</td>\n",
       "      <td>226</td>\n",
       "      <td>Carabus banoni</td>\n",
       "      <td>Kournas Lake</td>\n",
       "      <td>30</td>\n",
       "      <td>400</td>\n",
       "      <td>NaN</td>\n",
       "      <td>West</td>\n",
       "      <td>F</td>\n",
       "    </tr>\n",
       "  </tbody>\n",
       "</table>\n",
       "</div>"
      ],
      "text/plain": [
       "   ind_num          ID   FC         Species      Location  Alt.  Alt. Zone  \\\n",
       "0       10  FC226IND10  226  Carabus banoni  Kournas Lake    30        400   \n",
       "1       11  FC226IND11  226  Carabus banoni  Kournas Lake    30        400   \n",
       "2       12  FC226IND12  226  Carabus banoni  Kournas Lake    30        400   \n",
       "3       13  FC226IND13  226  Carabus banoni  Kournas Lake    30        400   \n",
       "4       14  FC226IND14  226  Carabus banoni  Kournas Lake    30        400   \n",
       "\n",
       "   Mt. Crete Sex  \n",
       "0  NaN  West   F  \n",
       "1  NaN  West   F  \n",
       "2  NaN  West   F  \n",
       "3  NaN  West   F  \n",
       "4  NaN  West   F  "
      ]
     },
     "execution_count": 75,
     "metadata": {},
     "output_type": "execute_result"
    }
   ],
   "source": [
    "metadata = pd.read_csv(metadata_file, delimiter=';')\n",
    "metadata = metadata.rename(columns={'id':'ind_num', 'IND_id':'ID'})\n",
    "# metadata = metadata.set_index('ID')\n",
    "total = len(metadata)\n",
    "metadata.head()\n"
   ]
  },
  {
   "cell_type": "code",
   "execution_count": 76,
   "metadata": {},
   "outputs": [
    {
     "name": "stdout",
     "output_type": "stream",
     "text": [
      "Not found 23 from metadata into the ids list out of 312 ids in metadata\n"
     ]
    }
   ],
   "source": [
    "not_found = []\n",
    "ids_metadata = []\n",
    "for index, value in metadata['ID'].items():\n",
    "    ids_metadata.append(value)\n",
    "    if not value in ids:\n",
    "        not_found.append(value)\n",
    "print(f\"Not found {len(not_found)} from metadata into the ids list out of {total} ids in metadata\")"
   ]
  },
  {
   "cell_type": "markdown",
   "metadata": {},
   "source": [
    "This are the IDs that are not found in the landmarks file. Let's try to find out why"
   ]
  },
  {
   "cell_type": "markdown",
   "metadata": {},
   "source": [
    "First let's see if these are in the list of files with less landmarks annotated."
   ]
  },
  {
   "cell_type": "code",
   "execution_count": 77,
   "metadata": {},
   "outputs": [],
   "source": [
    "less_landmarks = \"/Users/luciamf/Desktop/Landmarks_generator/example/less_landmarks.txt\""
   ]
  },
  {
   "cell_type": "code",
   "execution_count": 78,
   "metadata": {},
   "outputs": [],
   "source": [
    "with open(landmarks_file, 'r') as f:\n",
    "    lines = f.readlines()\n",
    "    less = [item.strip().split(\"=\")[1] for item in lines if \"ID\" in item]\n",
    "\n",
    "for id in not_found:\n",
    "    if id in less:\n",
    "        print(id)"
   ]
  },
  {
   "cell_type": "markdown",
   "metadata": {},
   "source": [
    "No hay ninguna de estas landmarks en less. Tiene sentido porque creo que estas si que las meti en predict. (creo)"
   ]
  },
  {
   "cell_type": "markdown",
   "metadata": {},
   "source": [
    "Tambien vemos que hay menos ids en el metadata que en los landmarks:"
   ]
  },
  {
   "cell_type": "code",
   "execution_count": 79,
   "metadata": {},
   "outputs": [
    {
     "name": "stdout",
     "output_type": "stream",
     "text": [
      "30 ids are not found in the metadata out of the total 319 ids in our landmarks file\n"
     ]
    }
   ],
   "source": [
    "not_match = []\n",
    "for id in ids:\n",
    "    if id not in ids_metadata:\n",
    "        not_match.append(id)\n",
    "len(not_match)\n",
    "\n",
    "print(f\"{len(not_match)} ids are not found in the metadata out of the total {len(ids)} ids in our landmarks file\")"
   ]
  },
  {
   "cell_type": "markdown",
   "metadata": {},
   "source": [
    "Vamos a ver la interseccion mejor: "
   ]
  },
  {
   "cell_type": "code",
   "execution_count": 88,
   "metadata": {},
   "outputs": [
    {
     "name": "stdout",
     "output_type": "stream",
     "text": [
      "53\n",
      "FC1532IND1\n",
      "FC1532IND2\n",
      "FC1532IND3\n",
      "FC1532IND4\n",
      "FC1532IND5\n",
      "FC1532IND6\n",
      "FC1532IND7\n",
      "FC1808IND10\n",
      "FC1808IND11\n",
      "FC1808IND12\n",
      "FC1808IND13\n",
      "FC1808IND14\n",
      "FC1808IND15\n",
      "FC1808IND16\n",
      "FC1808IND17\n",
      "FC1808IND18\n",
      "FC1809IND10\n",
      "FC1809IND11\n",
      "FC1809IND12\n",
      "FC1809IND13\n",
      "FC1809IND14\n",
      "FC1809IND15\n",
      "FC1809IND16\n",
      "FC1809IND17\n",
      "FC1809IND18\n",
      "FC19142IND10P\n",
      "FC19142IND1P\n",
      "FC19142IND2P\n",
      "FC19142IND3P\n",
      "FC19142IND4P\n",
      "FC19142IND5P\n",
      "FC19142IND6P\n",
      "FC19142IND7P\n",
      "FC19142IND8P\n",
      "FC19142IND9P\n",
      "FC1916IND1\n",
      "FC1916IND2\n",
      "FC1916IND3\n",
      "FC1916IND4\n",
      "FC1916IND5\n",
      "FC1916IND6\n",
      "FC1916IND7\n",
      "FC226IND13\n",
      "FC226IND20\n",
      "FC328IND11\n",
      "FC328IND17\n",
      "FC342IND12\n",
      "FC357IND16\n",
      "FC357IND7(1)\n",
      "FC357IND9\n",
      "FC764IND13\n",
      "FC764IND9\n",
      "FC8480IND11\n"
     ]
    }
   ],
   "source": [
    "# Convert lists to sets and get the symmetric difference\n",
    "items_outside_intersection = set(ids_metadata).symmetric_difference(set(ids))\n",
    "\n",
    "# Convert back to list (optional)\n",
    "items_outside_intersection = list(items_outside_intersection)\n",
    "\n",
    "print(len(items_outside_intersection))\n",
    "for id in sorted(items_outside_intersection):\n",
    "    print(id)\n",
    "    "
   ]
  },
  {
   "cell_type": "markdown",
   "metadata": {},
   "source": [
    "The total number of ids that are not in any of the lists is 62"
   ]
  },
  {
   "cell_type": "code",
   "execution_count": 89,
   "metadata": {},
   "outputs": [
    {
     "name": "stdout",
     "output_type": "stream",
     "text": [
      "62\n",
      "FC1532IND1\n",
      "FC1532IND2\n",
      "FC1532IND3\n",
      "FC1532IND4\n",
      "FC1532IND5\n",
      "FC1532IND6\n",
      "FC1532IND7\n",
      "FC1808IND10\n",
      "FC1808IND11\n",
      "FC1808IND12\n",
      "FC1808IND13\n",
      "FC1808IND14\n",
      "FC1808IND15\n",
      "FC1808IND16\n",
      "FC1808IND17\n",
      "FC1808IND18\n",
      "FC1809IND10\n",
      "FC1809IND11\n",
      "FC1809IND12\n",
      "FC1809IND13\n",
      "FC1809IND14\n",
      "FC1809IND15\n",
      "FC1809IND16\n",
      "FC1809IND17\n",
      "FC1809IND18\n",
      "FC19142IND10P\n",
      "FC19142IND1P\n",
      "FC19142IND2P\n",
      "FC19142IND3P\n",
      "FC19142IND4P\n",
      "FC19142IND5P\n",
      "FC19142IND6P\n",
      "FC19142IND7P\n",
      "FC19142IND8P\n",
      "FC19142IND9P\n",
      "FC1916IND1\n",
      "FC1916IND2\n",
      "FC1916IND3\n",
      "FC1916IND4\n",
      "FC1916IND5\n",
      "FC1916IND6\n",
      "FC1916IND7\n",
      "FC226IND13\n",
      "FC226IND20\n",
      "FC328IND11\n",
      "FC328IND17\n",
      "FC342IND12\n",
      "FC357IND16\n",
      "FC357IND7(1)\n",
      "FC357IND9\n",
      "FC764IND13\n",
      "FC764IND9\n",
      "FC8480IND11\n"
     ]
    }
   ],
   "source": [
    "# Convert lists to sets and get the symmetric difference\n",
    "new_items_outside_intersection = set(ids_metadata).symmetric_difference(set(ids_2))\n",
    "\n",
    "# Convert back to list (optional)\n",
    "new_items_outside_intersection = list(new_items_outside_intersection)\n",
    "\n",
    "print(len(new_items_outside_intersection))\n",
    "for id in sorted(items_outside_intersection):\n",
    "    print(id)"
   ]
  },
  {
   "cell_type": "code",
   "execution_count": 91,
   "metadata": {},
   "outputs": [
    {
     "name": "stdout",
     "output_type": "stream",
     "text": [
      "37\n",
      "1809IND2\n",
      "FC1045IND11\n",
      "FC1045IND6\n",
      "FC1046IND16\n",
      "FC1046IND17\n",
      "FC1047IND17\n",
      "FC1056\n",
      "FC1058IND6\n",
      "FC1809IND2\n",
      "FC19142IND1\n",
      "FC19142IND10\n",
      "FC19142IND10P\n",
      "FC19142IND1P\n",
      "FC19142IND2\n",
      "FC19142IND2P\n",
      "FC19142IND3\n",
      "FC19142IND3P\n",
      "FC19142IND4\n",
      "FC19142IND4P\n",
      "FC19142IND5\n",
      "FC19142IND5P\n",
      "FC19142IND6\n",
      "FC19142IND6P\n",
      "FC19142IND7\n",
      "FC19142IND7P\n",
      "FC19142IND8\n",
      "FC19142IND8P\n",
      "FC19142IND9\n",
      "FC19142IND9P\n",
      "FC342IND12\n",
      "FC357IND7\n",
      "FC764IND13\n",
      "FC764IND9\n",
      "FC8480IND11\n",
      "FCI1045IND6\n",
      "fc1045ind11\n",
      "fc357ind7\n"
     ]
    }
   ],
   "source": [
    "# Convert lists to sets and get the symmetric difference\n",
    "final_list = set(items_outside_intersection).symmetric_difference(set(new_items_outside_intersection))\n",
    "\n",
    "# Convert back to list (optional)\n",
    "final_list = list(final_list)\n",
    "\n",
    "print(len(final_list))\n",
    "for id in sorted(final_list):\n",
    "    print(id)"
   ]
  },
  {
   "cell_type": "code",
   "execution_count": 92,
   "metadata": {},
   "outputs": [
    {
     "data": {
      "text/html": [
       "<div>\n",
       "<style scoped>\n",
       "    .dataframe tbody tr th:only-of-type {\n",
       "        vertical-align: middle;\n",
       "    }\n",
       "\n",
       "    .dataframe tbody tr th {\n",
       "        vertical-align: top;\n",
       "    }\n",
       "\n",
       "    .dataframe thead th {\n",
       "        text-align: right;\n",
       "    }\n",
       "</style>\n",
       "<table border=\"1\" class=\"dataframe\">\n",
       "  <thead>\n",
       "    <tr style=\"text-align: right;\">\n",
       "      <th></th>\n",
       "      <th>ind_num</th>\n",
       "      <th>ID</th>\n",
       "      <th>FC</th>\n",
       "      <th>Species</th>\n",
       "      <th>Location</th>\n",
       "      <th>Alt.</th>\n",
       "      <th>Alt. Zone</th>\n",
       "      <th>Mt.</th>\n",
       "      <th>Crete</th>\n",
       "      <th>Sex</th>\n",
       "    </tr>\n",
       "  </thead>\n",
       "  <tbody>\n",
       "    <tr>\n",
       "      <th>0</th>\n",
       "      <td>10</td>\n",
       "      <td>FC226IND10</td>\n",
       "      <td>226</td>\n",
       "      <td>Carabus banoni</td>\n",
       "      <td>Kournas Lake</td>\n",
       "      <td>30</td>\n",
       "      <td>400</td>\n",
       "      <td>NaN</td>\n",
       "      <td>West</td>\n",
       "      <td>F</td>\n",
       "    </tr>\n",
       "    <tr>\n",
       "      <th>1</th>\n",
       "      <td>11</td>\n",
       "      <td>FC226IND11</td>\n",
       "      <td>226</td>\n",
       "      <td>Carabus banoni</td>\n",
       "      <td>Kournas Lake</td>\n",
       "      <td>30</td>\n",
       "      <td>400</td>\n",
       "      <td>NaN</td>\n",
       "      <td>West</td>\n",
       "      <td>F</td>\n",
       "    </tr>\n",
       "    <tr>\n",
       "      <th>2</th>\n",
       "      <td>12</td>\n",
       "      <td>FC226IND12</td>\n",
       "      <td>226</td>\n",
       "      <td>Carabus banoni</td>\n",
       "      <td>Kournas Lake</td>\n",
       "      <td>30</td>\n",
       "      <td>400</td>\n",
       "      <td>NaN</td>\n",
       "      <td>West</td>\n",
       "      <td>F</td>\n",
       "    </tr>\n",
       "    <tr>\n",
       "      <th>3</th>\n",
       "      <td>13</td>\n",
       "      <td>FC226IND13</td>\n",
       "      <td>226</td>\n",
       "      <td>Carabus banoni</td>\n",
       "      <td>Kournas Lake</td>\n",
       "      <td>30</td>\n",
       "      <td>400</td>\n",
       "      <td>NaN</td>\n",
       "      <td>West</td>\n",
       "      <td>F</td>\n",
       "    </tr>\n",
       "    <tr>\n",
       "      <th>4</th>\n",
       "      <td>14</td>\n",
       "      <td>FC226IND14</td>\n",
       "      <td>226</td>\n",
       "      <td>Carabus banoni</td>\n",
       "      <td>Kournas Lake</td>\n",
       "      <td>30</td>\n",
       "      <td>400</td>\n",
       "      <td>NaN</td>\n",
       "      <td>West</td>\n",
       "      <td>F</td>\n",
       "    </tr>\n",
       "  </tbody>\n",
       "</table>\n",
       "</div>"
      ],
      "text/plain": [
       "   ind_num          ID   FC         Species      Location  Alt.  Alt. Zone  \\\n",
       "0       10  FC226IND10  226  Carabus banoni  Kournas Lake    30        400   \n",
       "1       11  FC226IND11  226  Carabus banoni  Kournas Lake    30        400   \n",
       "2       12  FC226IND12  226  Carabus banoni  Kournas Lake    30        400   \n",
       "3       13  FC226IND13  226  Carabus banoni  Kournas Lake    30        400   \n",
       "4       14  FC226IND14  226  Carabus banoni  Kournas Lake    30        400   \n",
       "\n",
       "   Mt. Crete Sex  \n",
       "0  NaN  West   F  \n",
       "1  NaN  West   F  \n",
       "2  NaN  West   F  \n",
       "3  NaN  West   F  \n",
       "4  NaN  West   F  "
      ]
     },
     "execution_count": 92,
     "metadata": {},
     "output_type": "execute_result"
    }
   ],
   "source": [
    "metadata.head()"
   ]
  },
  {
   "cell_type": "code",
   "execution_count": 93,
   "metadata": {},
   "outputs": [],
   "source": [
    "metadata.to_csv('/Users/luciamf/Desktop/GM_analysis/metadata_carabus.csv', index=False)"
   ]
  }
 ],
 "metadata": {
  "kernelspec": {
   "display_name": "Python 3",
   "language": "python",
   "name": "python3"
  },
  "language_info": {
   "codemirror_mode": {
    "name": "ipython",
    "version": 3
   },
   "file_extension": ".py",
   "mimetype": "text/x-python",
   "name": "python",
   "nbconvert_exporter": "python",
   "pygments_lexer": "ipython3",
   "version": "3.9.6"
  }
 },
 "nbformat": 4,
 "nbformat_minor": 2
}
